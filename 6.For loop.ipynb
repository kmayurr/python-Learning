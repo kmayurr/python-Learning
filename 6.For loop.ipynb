{
 "cells": [
  {
   "cell_type": "markdown",
   "id": "43aae050",
   "metadata": {},
   "source": [
    "# For loop\n",
    "\n",
    "\n",
    "#In the context of most data science work, Python for loops are used to loop through an iterable object \n",
    "#(like a list, tuple, set, etc.) \n",
    "#and perform the same action for each entry. \n",
    "#For example, a for loop would allow us to iterate through a list, performing the same action on each item in the list"
   ]
  },
  {
   "cell_type": "code",
   "execution_count": 4,
   "id": "74032e0d",
   "metadata": {},
   "outputs": [
    {
     "name": "stdout",
     "output_type": "stream",
     "text": [
      "1\n",
      "2\n",
      "3\n",
      "4\n",
      "5\n",
      "6\n",
      "7\n",
      "8\n",
      "9\n"
     ]
    }
   ],
   "source": [
    "#For loop syntax\n",
    "\n",
    "for i in range(1,10):\n",
    "    print(i)"
   ]
  },
  {
   "cell_type": "code",
   "execution_count": 5,
   "id": "66d4727f",
   "metadata": {},
   "outputs": [],
   "source": [
    "my_list=[\"one\",\"two\",\"three\",\"four\",\"five\"]\n"
   ]
  },
  {
   "cell_type": "code",
   "execution_count": 6,
   "id": "a99c79a2",
   "metadata": {},
   "outputs": [
    {
     "name": "stdout",
     "output_type": "stream",
     "text": [
      "one\n",
      "two\n",
      "three\n",
      "four\n",
      "five\n"
     ]
    }
   ],
   "source": [
    "for i in my_list:\n",
    "    print(i)"
   ]
  },
  {
   "cell_type": "code",
   "execution_count": 10,
   "id": "124f7551",
   "metadata": {},
   "outputs": [
    {
     "name": "stdout",
     "output_type": "stream",
     "text": [
      "1\n",
      "2\n",
      "3\n",
      "4\n",
      "5\n",
      "6\n",
      "7\n",
      "8\n",
      "9\n",
      "end of program\n"
     ]
    }
   ],
   "source": [
    "\n",
    "for i in range(1,10):\n",
    "    print(i)\n",
    "else:\n",
    "    print(\"end of program\")"
   ]
  },
  {
   "cell_type": "markdown",
   "id": "5dc21097",
   "metadata": {},
   "source": [
    "# write a program to print first 10 natural numbers"
   ]
  },
  {
   "cell_type": "code",
   "execution_count": 16,
   "id": "d7afe53f",
   "metadata": {},
   "outputs": [
    {
     "name": "stdout",
     "output_type": "stream",
     "text": [
      "1\n",
      "2\n",
      "3\n",
      "4\n",
      "5\n",
      "6\n",
      "7\n",
      "8\n",
      "9\n",
      "10\n"
     ]
    }
   ],
   "source": [
    "for i in range(1,11):\n",
    "    print(i)"
   ]
  },
  {
   "cell_type": "markdown",
   "id": "9dd37243",
   "metadata": {},
   "source": [
    "# write a program to print first 10 even number\n"
   ]
  },
  {
   "cell_type": "code",
   "execution_count": 22,
   "id": "196c2317",
   "metadata": {},
   "outputs": [
    {
     "name": "stdout",
     "output_type": "stream",
     "text": [
      "2\n",
      "4\n",
      "6\n",
      "8\n",
      "10\n",
      "12\n",
      "14\n",
      "16\n",
      "18\n",
      "20\n"
     ]
    }
   ],
   "source": [
    "for i in range(2,22,2):\n",
    "    print(i)"
   ]
  },
  {
   "cell_type": "markdown",
   "id": "369cd4fc",
   "metadata": {},
   "source": [
    "# write a program to print first 10 odd number"
   ]
  },
  {
   "cell_type": "code",
   "execution_count": 24,
   "id": "fd09e657",
   "metadata": {},
   "outputs": [
    {
     "name": "stdout",
     "output_type": "stream",
     "text": [
      "1\n",
      "3\n",
      "5\n",
      "7\n",
      "9\n",
      "11\n",
      "13\n",
      "15\n",
      "17\n",
      "19\n",
      "21\n",
      "23\n",
      "25\n",
      "27\n",
      "29\n",
      "31\n"
     ]
    }
   ],
   "source": [
    "for i in range(1,33,2):\n",
    "    print(i)"
   ]
  },
  {
   "cell_type": "markdown",
   "id": "05aefbc3",
   "metadata": {},
   "source": [
    "# write a program to print first 10 even number in reverse order"
   ]
  },
  {
   "cell_type": "code",
   "execution_count": 33,
   "id": "80b6cf8c",
   "metadata": {},
   "outputs": [
    {
     "name": "stdout",
     "output_type": "stream",
     "text": [
      "22\n",
      "20\n",
      "18\n",
      "16\n",
      "14\n",
      "12\n",
      "10\n",
      "8\n",
      "6\n",
      "4\n",
      "2\n"
     ]
    }
   ],
   "source": [
    "for i in range(22,0,-2):\n",
    "    print(i)"
   ]
  },
  {
   "cell_type": "markdown",
   "id": "b91e1ca3",
   "metadata": {},
   "source": [
    "# write a program to print table of a number accepted from user "
   ]
  },
  {
   "cell_type": "code",
   "execution_count": 1,
   "id": "b08584c2",
   "metadata": {},
   "outputs": [
    {
     "name": "stdout",
     "output_type": "stream",
     "text": [
      "Enter NUMBER:-16\n",
      "16\n",
      "32\n",
      "48\n",
      "64\n",
      "80\n",
      "96\n",
      "112\n",
      "128\n",
      "144\n",
      "160\n",
      "176\n",
      "192\n"
     ]
    }
   ],
   "source": [
    "num=int(input(\"Enter NUMBER:-\"))\n",
    "for i in range(1,13):\n",
    "    print(num*i)\n",
    "    "
   ]
  },
  {
   "cell_type": "markdown",
   "id": "50fc97fd",
   "metadata": {},
   "source": [
    "# write a program to display product of the digits of a number accepted from the user"
   ]
  },
  {
   "cell_type": "code",
   "execution_count": null,
   "id": "e89bba35",
   "metadata": {},
   "outputs": [],
   "source": [
    "i=int"
   ]
  }
 ],
 "metadata": {
  "kernelspec": {
   "display_name": "Python 3 (ipykernel)",
   "language": "python",
   "name": "python3"
  },
  "language_info": {
   "codemirror_mode": {
    "name": "ipython",
    "version": 3
   },
   "file_extension": ".py",
   "mimetype": "text/x-python",
   "name": "python",
   "nbconvert_exporter": "python",
   "pygments_lexer": "ipython3",
   "version": "3.9.7"
  }
 },
 "nbformat": 4,
 "nbformat_minor": 5
}
