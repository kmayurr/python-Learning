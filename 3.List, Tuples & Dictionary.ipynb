{
 "cells": [
  {
   "cell_type": "code",
   "execution_count": null,
   "id": "51f44856",
   "metadata": {
    "scrolled": true
   },
   "outputs": [],
   "source": [
    "list1."
   ]
  },
  {
   "cell_type": "markdown",
   "id": "1ed28462",
   "metadata": {},
   "source": [
    "# List"
   ]
  },
  {
   "cell_type": "code",
   "execution_count": null,
   "id": "5f0bff35",
   "metadata": {},
   "outputs": [],
   "source": [
    "# 1:List is a sequence of values that can be of anytype.\n",
    "# 2:We can Add/delete/modify Elements in the list \n",
    "# 3:Elements are sperated by comma \",\"\n",
    "# 4:Elements in list can be accessed via 'INDEX dunction'.\n",
    "# 5:index starts with 'Zero'\n",
    "# 6:whatever we put in square bracket that is a elemnt of a List "
   ]
  },
  {
   "cell_type": "code",
   "execution_count": 3,
   "id": "062f5cee",
   "metadata": {},
   "outputs": [],
   "source": [
    "list1=['football','cricket','baseball','handball',['1998','Age']]"
   ]
  },
  {
   "cell_type": "markdown",
   "id": "548af6df",
   "metadata": {},
   "source": [
    "# append() Function, This function is used to add someting at the end of written                                      document."
   ]
  },
  {
   "cell_type": "code",
   "execution_count": 4,
   "id": "c4c20957",
   "metadata": {},
   "outputs": [
    {
     "name": "stdout",
     "output_type": "stream",
     "text": [
      "['football', 'cricket', 'baseball', 'handball', ['1998', 'Age'], 'tennis']\n"
     ]
    }
   ],
   "source": [
    "list1.append('tennis')      \n",
    "print(list1)"
   ]
  },
  {
   "cell_type": "markdown",
   "id": "a675fa04",
   "metadata": {},
   "source": [
    "# POP() Function, POP is an inbult funtion in python that removes and returns                                   the last value from the list Or the given index number\n"
   ]
  },
  {
   "cell_type": "code",
   "execution_count": 5,
   "id": "ff4d5870",
   "metadata": {},
   "outputs": [
    {
     "name": "stdout",
     "output_type": "stream",
     "text": [
      "['football', 'cricket', 'baseball', 'handball', ['1998', 'Age'], 'tennis']\n"
     ]
    }
   ],
   "source": [
    "print(list1)"
   ]
  },
  {
   "cell_type": "code",
   "execution_count": 6,
   "id": "741d5b7f",
   "metadata": {
    "scrolled": true
   },
   "outputs": [
    {
     "data": {
      "text/plain": [
       "'tennis'"
      ]
     },
     "execution_count": 6,
     "metadata": {},
     "output_type": "execute_result"
    }
   ],
   "source": [
    "list1.pop()"
   ]
  },
  {
   "cell_type": "code",
   "execution_count": 7,
   "id": "d8495be2",
   "metadata": {},
   "outputs": [
    {
     "name": "stdout",
     "output_type": "stream",
     "text": [
      "['football', 'cricket', 'baseball', 'handball', ['1998', 'Age']]\n"
     ]
    }
   ],
   "source": [
    "print(list1)\n"
   ]
  },
  {
   "cell_type": "code",
   "execution_count": 8,
   "id": "5fcc3850",
   "metadata": {},
   "outputs": [
    {
     "data": {
      "text/plain": [
       "'handball'"
      ]
     },
     "execution_count": 8,
     "metadata": {},
     "output_type": "execute_result"
    }
   ],
   "source": [
    "list1.pop(3)"
   ]
  },
  {
   "cell_type": "code",
   "execution_count": 9,
   "id": "4f1f78e9",
   "metadata": {},
   "outputs": [
    {
     "name": "stdout",
     "output_type": "stream",
     "text": [
      "['football', 'cricket', 'baseball', ['1998', 'Age']]\n"
     ]
    }
   ],
   "source": [
    "print(list1)"
   ]
  },
  {
   "cell_type": "markdown",
   "id": "7e693f81",
   "metadata": {},
   "source": [
    "\n",
    "# Remove() function is a inbuilt function in python programming language that                        removes the given object from the given list"
   ]
  },
  {
   "cell_type": "code",
   "execution_count": 10,
   "id": "9f2dc816",
   "metadata": {},
   "outputs": [
    {
     "name": "stdout",
     "output_type": "stream",
     "text": [
      "['football', 'cricket', 'baseball', ['1998', 'Age']]\n"
     ]
    }
   ],
   "source": [
    "print(list1)"
   ]
  },
  {
   "cell_type": "code",
   "execution_count": 11,
   "id": "a93c52a9",
   "metadata": {},
   "outputs": [],
   "source": [
    "list1.remove('baseball')\n"
   ]
  },
  {
   "cell_type": "code",
   "execution_count": 12,
   "id": "d9a08e89",
   "metadata": {},
   "outputs": [
    {
     "name": "stdout",
     "output_type": "stream",
     "text": [
      "['football', 'cricket', ['1998', 'Age']]\n"
     ]
    }
   ],
   "source": [
    "print(list1)"
   ]
  },
  {
   "cell_type": "markdown",
   "id": "061b8a5a",
   "metadata": {},
   "source": [
    "# Replace() Function, we can replace any element in the cell we want\n"
   ]
  },
  {
   "cell_type": "code",
   "execution_count": 13,
   "id": "51f0a8c0",
   "metadata": {},
   "outputs": [
    {
     "name": "stdout",
     "output_type": "stream",
     "text": [
      "['football', 'cricket', ['1998', 'Age']]\n"
     ]
    }
   ],
   "source": [
    "print(list1)"
   ]
  },
  {
   "cell_type": "code",
   "execution_count": 15,
   "id": "d8cfc763",
   "metadata": {},
   "outputs": [],
   "source": [
    "list1[1]='boxing'"
   ]
  },
  {
   "cell_type": "code",
   "execution_count": 17,
   "id": "e7a6ed3d",
   "metadata": {},
   "outputs": [
    {
     "name": "stdout",
     "output_type": "stream",
     "text": [
      "['football', 'boxing', ['1998', 'Age']]\n"
     ]
    }
   ],
   "source": [
    "print(list1)"
   ]
  },
  {
   "cell_type": "code",
   "execution_count": 22,
   "id": "e4391dfd",
   "metadata": {},
   "outputs": [],
   "source": [
    "list1[2][0]='name'"
   ]
  },
  {
   "cell_type": "code",
   "execution_count": 19,
   "id": "b31442e2",
   "metadata": {},
   "outputs": [
    {
     "name": "stdout",
     "output_type": "stream",
     "text": [
      "['football', 'boxing', ['name', 'Age']]\n"
     ]
    }
   ],
   "source": [
    "print(list1)"
   ]
  },
  {
   "cell_type": "markdown",
   "id": "e03ae5bd",
   "metadata": {},
   "source": [
    "# Iteration = Means to read whole set of elements equally"
   ]
  },
  {
   "cell_type": "code",
   "execution_count": 24,
   "id": "15ec9d63",
   "metadata": {},
   "outputs": [
    {
     "name": "stdout",
     "output_type": "stream",
     "text": [
      "football\n",
      "boxing\n",
      "['name', 'Age']\n"
     ]
    }
   ],
   "source": [
    "for i in list1:\n",
    "    print(i)"
   ]
  },
  {
   "cell_type": "markdown",
   "id": "ad1993d5",
   "metadata": {},
   "source": [
    "# __length__() function is used to Know total elements in list"
   ]
  },
  {
   "cell_type": "code",
   "execution_count": 25,
   "id": "a57c1cda",
   "metadata": {},
   "outputs": [
    {
     "name": "stdout",
     "output_type": "stream",
     "text": [
      "['football', 'boxing', ['name', 'Age']]\n"
     ]
    }
   ],
   "source": [
    "print(list1)"
   ]
  },
  {
   "cell_type": "code",
   "execution_count": 27,
   "id": "da3bd078",
   "metadata": {},
   "outputs": [
    {
     "data": {
      "text/plain": [
       "3"
      ]
     },
     "execution_count": 27,
     "metadata": {},
     "output_type": "execute_result"
    }
   ],
   "source": [
    "list1.__len__()"
   ]
  },
  {
   "cell_type": "markdown",
   "id": "ed209c5a",
   "metadata": {},
   "source": [
    "# Reverse() Function used to reverse whole set"
   ]
  },
  {
   "cell_type": "code",
   "execution_count": 31,
   "id": "e12c5211",
   "metadata": {},
   "outputs": [
    {
     "name": "stdout",
     "output_type": "stream",
     "text": [
      "['football', 'boxing', ['name', 'Age']]\n"
     ]
    }
   ],
   "source": [
    "print(list1)"
   ]
  },
  {
   "cell_type": "code",
   "execution_count": 32,
   "id": "11fd8648",
   "metadata": {},
   "outputs": [],
   "source": [
    "list1.reverse()"
   ]
  },
  {
   "cell_type": "code",
   "execution_count": 33,
   "id": "6735f767",
   "metadata": {
    "scrolled": true
   },
   "outputs": [
    {
     "name": "stdout",
     "output_type": "stream",
     "text": [
      "[['name', 'Age'], 'boxing', 'football']\n"
     ]
    }
   ],
   "source": [
    "print(list1)"
   ]
  },
  {
   "cell_type": "code",
   "execution_count": null,
   "id": "9c5008c6",
   "metadata": {},
   "outputs": [],
   "source": []
  },
  {
   "cell_type": "markdown",
   "id": "1313e6ca",
   "metadata": {},
   "source": [
    "# TUPLES  :- In Tuples we cannot add/remove/delete element & also we cannot make any modificaton to elements & tuples are written in curve Bracket \"()\""
   ]
  },
  {
   "cell_type": "code",
   "execution_count": 38,
   "id": "b95e1205",
   "metadata": {},
   "outputs": [],
   "source": [
    "list2=('football','cricket','baseball','handball',['1998','Age'])"
   ]
  },
  {
   "cell_type": "code",
   "execution_count": 39,
   "id": "1d36c4fb",
   "metadata": {},
   "outputs": [
    {
     "name": "stdout",
     "output_type": "stream",
     "text": [
      "('football', 'cricket', 'baseball', 'handball', ['1998', 'Age'])\n"
     ]
    }
   ],
   "source": [
    "print(list2)"
   ]
  },
  {
   "cell_type": "markdown",
   "id": "ac9feff1",
   "metadata": {},
   "source": [
    "# DICTIONARY 1-is an unordered and mutable python container that sotres     mapping of unique Keys to Values\n",
    "                        # 2-Dictionaries are written in curley \"{}\" brackets including key-values pairs sperated by Commas (,), A colon (:), seprated each key from its values"
   ]
  },
  {
   "cell_type": "code",
   "execution_count": 3,
   "id": "8ed6f36c",
   "metadata": {},
   "outputs": [
    {
     "data": {
      "text/plain": [
       "'rock'"
      ]
     },
     "execution_count": 3,
     "metadata": {},
     "output_type": "execute_result"
    }
   ],
   "source": [
    "dict1={'name':'rock','age':'23','country':'india'}\n",
    "dict1['name']"
   ]
  },
  {
   "cell_type": "code",
   "execution_count": 4,
   "id": "79c32343",
   "metadata": {},
   "outputs": [
    {
     "data": {
      "text/plain": [
       "'23'"
      ]
     },
     "execution_count": 4,
     "metadata": {},
     "output_type": "execute_result"
    }
   ],
   "source": [
    "dict1['age']"
   ]
  },
  {
   "cell_type": "code",
   "execution_count": 5,
   "id": "78fd1489",
   "metadata": {},
   "outputs": [
    {
     "data": {
      "text/plain": [
       "'india'"
      ]
     },
     "execution_count": 5,
     "metadata": {},
     "output_type": "execute_result"
    }
   ],
   "source": [
    "dict1['country']"
   ]
  },
  {
   "cell_type": "code",
   "execution_count": 7,
   "id": "b0bd42d8",
   "metadata": {},
   "outputs": [
    {
     "data": {
      "text/plain": [
       "'not entry found for hobby'"
      ]
     },
     "execution_count": 7,
     "metadata": {},
     "output_type": "execute_result"
    }
   ],
   "source": [
    "dict1.get(\"hobby\",\"not entry found for hobby\")"
   ]
  },
  {
   "cell_type": "code",
   "execution_count": 11,
   "id": "0589d240",
   "metadata": {},
   "outputs": [
    {
     "data": {
      "text/plain": [
       "3"
      ]
     },
     "execution_count": 11,
     "metadata": {},
     "output_type": "execute_result"
    }
   ],
   "source": [
    "dict1.__len__()"
   ]
  },
  {
   "cell_type": "code",
   "execution_count": 13,
   "id": "a2cbed71",
   "metadata": {},
   "outputs": [
    {
     "name": "stdout",
     "output_type": "stream",
     "text": [
      "dict_keys(['name', 'age', 'country'])\n"
     ]
    }
   ],
   "source": [
    "print(dict1.keys())"
   ]
  },
  {
   "cell_type": "code",
   "execution_count": 17,
   "id": "be0d8e3d",
   "metadata": {},
   "outputs": [
    {
     "name": "stdout",
     "output_type": "stream",
     "text": [
      "dict_values(['rock', '23', 'india'])\n"
     ]
    }
   ],
   "source": [
    "print(dict1.values())"
   ]
  },
  {
   "cell_type": "code",
   "execution_count": 21,
   "id": "1f07a169",
   "metadata": {},
   "outputs": [
    {
     "name": "stdout",
     "output_type": "stream",
     "text": [
      "name\n",
      "age\n",
      "country\n"
     ]
    }
   ],
   "source": [
    "for i in dict1.keys():\n",
    "    print(i)"
   ]
  },
  {
   "cell_type": "code",
   "execution_count": 24,
   "id": "4e0e7b06",
   "metadata": {},
   "outputs": [
    {
     "name": "stdout",
     "output_type": "stream",
     "text": [
      "rock\n",
      "23\n",
      "india\n"
     ]
    }
   ],
   "source": [
    "for i in dict1.values():\n",
    "    print(i)"
   ]
  },
  {
   "cell_type": "code",
   "execution_count": null,
   "id": "cff5d01c",
   "metadata": {},
   "outputs": [],
   "source": []
  }
 ],
 "metadata": {
  "kernelspec": {
   "display_name": "Python 3 (ipykernel)",
   "language": "python",
   "name": "python3"
  },
  "language_info": {
   "codemirror_mode": {
    "name": "ipython",
    "version": 3
   },
   "file_extension": ".py",
   "mimetype": "text/x-python",
   "name": "python",
   "nbconvert_exporter": "python",
   "pygments_lexer": "ipython3",
   "version": "3.9.7"
  }
 },
 "nbformat": 4,
 "nbformat_minor": 5
}
