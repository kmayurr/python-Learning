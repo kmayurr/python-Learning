{
 "cells": [
  {
   "cell_type": "markdown",
   "id": "34030ea8",
   "metadata": {},
   "source": [
    "# Conditional Statements\n",
    "\n",
    "\n",
    "    \n",
    "    \n",
    "    Relational Operator:-              Logical operator:-          Arithmetic Operators:-\n",
    "                                                               \n",
    "                                              \n",
    "      >   Greater                            and                   +  Add two operands or unary plus\t            x + y+ 2\n",
    "      >=  Greater then Equal too             or                    -  Subtract right operand from the left or ... x - y- 2\n",
    "      <   less than                          not                   *  Multiply two operands\t                    x * y\n",
    "      <=  less then Equal too.                                     /  Divide left operand by the right one (al ...x / y\n",
    "                    \n",
    "                                  \n",
    "     "
   ]
  },
  {
   "cell_type": "markdown",
   "id": "b5f22352",
   "metadata": {},
   "source": [
    "# If else STATEMENT\n",
    "    #syntax for IF statement\n",
    "\n",
    "if conditon:                         \n",
    "    execute stmts           #if the condition is true then 'if' statement will execute \n",
    "else:\n",
    "    execute                 #if the condition is false then 'else' statement will execute"
   ]
  },
  {
   "cell_type": "code",
   "execution_count": 12,
   "id": "5287e9fc",
   "metadata": {},
   "outputs": [
    {
     "name": "stdout",
     "output_type": "stream",
     "text": [
      "B is greater\n"
     ]
    }
   ],
   "source": [
    "a=10                                #BASIC program find the greatest number in A and B     \n",
    "b=20\n",
    "\n",
    "if a>b:\n",
    "    print(\"A is greater\")\n",
    "else:\n",
    "    print(\"B is greater\")\n",
    "    \n",
    "    "
   ]
  },
  {
   "cell_type": "code",
   "execution_count": null,
   "id": "4a53c6d0",
   "metadata": {},
   "outputs": [],
   "source": [
    "a=10                                #find the greatest number in A,B and C\n",
    "b=20\n",
    "c=30\n",
    "\n",
    "\n",
    "if a>b and a>c:\n",
    "    print('A is greatest')\n",
    "if b>a and b>c:\n",
    "    print('B is greatest') \n",
    "else:\n",
    "    print('C is greatest')\n",
    "    \n",
    "    \n",
    "    "
   ]
  },
  {
   "cell_type": "markdown",
   "id": "aa989e80",
   "metadata": {},
   "source": [
    "## Write a program to check wheather a person is eligible for voting ot not.(accept age from User)"
   ]
  },
  {
   "cell_type": "code",
   "execution_count": null,
   "id": "cd0ec90b",
   "metadata": {},
   "outputs": [],
   "source": [
    "age=int(input(\"Enter your age\"))\n",
    "\n",
    "if age>=18:\n",
    "    print(\"Eligible FOR VOTING\")\n",
    "else:\n",
    "    print(\"NOT Eligible FOR VOTING\")\n",
    "    "
   ]
  },
  {
   "cell_type": "markdown",
   "id": "91bf2826",
   "metadata": {},
   "source": [
    "# write a program to check weathyer given number is ODD or EVEN"
   ]
  },
  {
   "cell_type": "code",
   "execution_count": 9,
   "id": "9e0c8bad",
   "metadata": {},
   "outputs": [
    {
     "name": "stdout",
     "output_type": "stream",
     "text": [
      "ENTER YOUR NUMBER :-5\n",
      " Given number is Odd\n"
     ]
    }
   ],
   "source": [
    "Number=int(input(\"ENTER YOUR NUMBER :-\"))\n",
    "\n",
    "if(Number % 2 == 0):  \n",
    "    print(\" Given Number is Even\")\n",
    "else:\n",
    "    print(\" Given number is Odd\")\n",
    "    "
   ]
  },
  {
   "cell_type": "markdown",
   "id": "88597cb9",
   "metadata": {},
   "source": [
    "# Write a program to check wheather a number is divisible by 7\n"
   ]
  },
  {
   "cell_type": "code",
   "execution_count": 7,
   "id": "006cb663",
   "metadata": {},
   "outputs": [
    {
     "name": "stdout",
     "output_type": "stream",
     "text": [
      "number :-59\n",
      "number is not divisible\n"
     ]
    }
   ],
   "source": [
    "Total=int(input(\"number :-\"))\n",
    "\n",
    "if(Total %7 ==0):\n",
    "    print(\"number is divisible\")\n",
    "else:\n",
    "    print(\"number is not divisible\")"
   ]
  },
  {
   "cell_type": "markdown",
   "id": "7e23b3a2",
   "metadata": {},
   "source": [
    "# write a program to display \"hello\" if a number entered bu user is a multiple of five otherwise print \"BYE\""
   ]
  },
  {
   "cell_type": "code",
   "execution_count": 17,
   "id": "7d6091ad",
   "metadata": {},
   "outputs": [
    {
     "name": "stdout",
     "output_type": "stream",
     "text": [
      "TYPE THE PASSCODE :-16\n",
      "'BYE'PASSCODE is Wrong\n"
     ]
    }
   ],
   "source": [
    "Number=int(input(\"TYPE THE PASSCODE :-\"))\n",
    "\n",
    "if Number %5 ==0:\n",
    "    print(\"'HELLO'PASSCODE is Correct\")\n",
    "else:\n",
    "    print(\"'BYE'PASSCODE is Wrong\")"
   ]
  },
  {
   "cell_type": "markdown",
   "id": "f45a2b27",
   "metadata": {},
   "source": [
    "# Write a program to Calculate the electricity bill (accpect number of unit fro muser according to the following criteria:- )\n",
    "#       if unit consumed <= 100 then no charge\n",
    "#       if unit consumed >= 101 and <=200 then cost 5rs Per unit\n",
    "#       if unit consumed >= 200 and <=1000 then cost 10rs per unit\n"
   ]
  },
  {
   "cell_type": "code",
   "execution_count": 17,
   "id": "bf1a0eae",
   "metadata": {},
   "outputs": [
    {
     "name": "stdout",
     "output_type": "stream",
     "text": [
      "Enter number of Electric Unit :-999\n",
      "Amount to pay: 9990\n"
     ]
    }
   ],
   "source": [
    "amount=0\n",
    "unit = int(input(\"Enter number of Electric Unit :-\"))\n",
    "if unit <= 100:\n",
    "    amount=0\n",
    "    print(\"Amount to pay:\",amount)\n",
    "if unit >= 101 and unit <=200:\n",
    "    amount=(unit)*5 \n",
    "    print(\"Amount to pay:\",amount)\n",
    "if unit >= 200 and unit <=10000:\n",
    "    amount=(unit)*10\n",
    "    print(\"Amount to pay:\",amount)"
   ]
  },
  {
   "cell_type": "markdown",
   "id": "98c3e511",
   "metadata": {},
   "source": [
    "# write a program to check whether the last digit of a number.(hint: any number %10 will return the last digit )"
   ]
  },
  {
   "cell_type": "code",
   "execution_count": 21,
   "id": "e8d737fb",
   "metadata": {},
   "outputs": [
    {
     "name": "stdout",
     "output_type": "stream",
     "text": [
      "Enter any number4554125\n",
      "last digit is:- 5\n"
     ]
    }
   ],
   "source": [
    "num=int(input(\"Enter any number\"))\n",
    "print(\"last digit is:-\",abs(num)%10)"
   ]
  },
  {
   "cell_type": "markdown",
   "id": "2893211f",
   "metadata": {},
   "source": [
    "# write a program to check whether the last digit of a number entered by user is divisible by 3 or not"
   ]
  },
  {
   "cell_type": "code",
   "execution_count": 25,
   "id": "3da15280",
   "metadata": {},
   "outputs": [
    {
     "name": "stdout",
     "output_type": "stream",
     "text": [
      "Enter your number144154846464329\n",
      "last number is divisible by 3\n"
     ]
    }
   ],
   "source": [
    "num=int(input(\"Enter your number\"))\n",
    "id=num%10\n",
    "if id%3==0:\n",
    "    print(\"last number is divisible by 3\")\n",
    "else:\n",
    "    print(\"last number is not divisible by 3\")"
   ]
  },
  {
   "cell_type": "markdown",
   "id": "676c176d",
   "metadata": {},
   "source": [
    "# write a program to accept percentage from the user and display the grade according to the following criteria:\n",
    "    \n",
    "    marks                           Grade\n",
    "      >90                             A\n",
    "      >80 and <=90                    B\n",
    "     >=60 and <=80                    C \n",
    "        below 60                      D\n",
    "        "
   ]
  },
  {
   "cell_type": "code",
   "execution_count": 49,
   "id": "90756337",
   "metadata": {},
   "outputs": [
    {
     "name": "stdout",
     "output_type": "stream",
     "text": [
      "ENTER YOUR PERCENTAGE:- 3\n",
      "FAIL\n"
     ]
    }
   ],
   "source": [
    "per=int(input(\"ENTER YOUR PERCENTAGE:- \"))\n",
    "\n",
    "if per > 90:\n",
    "    print(\"A GRADE\")\n",
    "if per > 80 and per <= 90:\n",
    "    print(\"B GRADE\")\n",
    "if per >=60 and per <= 80:\n",
    "    print(\"C GRADE\")\n",
    "if per >=36 and per <=60 :\n",
    "    print(\"D GRADE\")\n",
    "if per <=35:\n",
    "    print(\"FAIL\")\n",
    "    "
   ]
  },
  {
   "cell_type": "code",
   "execution_count": null,
   "id": "d8d879c2",
   "metadata": {},
   "outputs": [],
   "source": []
  },
  {
   "cell_type": "code",
   "execution_count": null,
   "id": "5e769861",
   "metadata": {},
   "outputs": [],
   "source": []
  },
  {
   "cell_type": "code",
   "execution_count": null,
   "id": "f59a0ebf",
   "metadata": {},
   "outputs": [],
   "source": []
  }
 ],
 "metadata": {
  "kernelspec": {
   "display_name": "Python 3 (ipykernel)",
   "language": "python",
   "name": "python3"
  },
  "language_info": {
   "codemirror_mode": {
    "name": "ipython",
    "version": 3
   },
   "file_extension": ".py",
   "mimetype": "text/x-python",
   "name": "python",
   "nbconvert_exporter": "python",
   "pygments_lexer": "ipython3",
   "version": "3.9.7"
  }
 },
 "nbformat": 4,
 "nbformat_minor": 5
}
